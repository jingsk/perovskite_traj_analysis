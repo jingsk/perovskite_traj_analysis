{
 "cells": [
  {
   "cell_type": "code",
   "execution_count": 1,
   "id": "2f378b2f-988f-4aff-9026-5a6c02b45c98",
   "metadata": {},
   "outputs": [
    {
     "ename": "ModuleNotFoundError",
     "evalue": "No module named 'ase'",
     "output_type": "error",
     "traceback": [
      "\u001b[0;31m---------------------------------------------------------------------------\u001b[0m",
      "\u001b[0;31mModuleNotFoundError\u001b[0m                       Traceback (most recent call last)",
      "Cell \u001b[0;32mIn[1], line 1\u001b[0m\n\u001b[0;32m----> 1\u001b[0m \u001b[38;5;28;01mfrom\u001b[39;00m \u001b[38;5;21;01mase\u001b[39;00m\u001b[38;5;21;01m.\u001b[39;00m\u001b[38;5;21;01mio\u001b[39;00m \u001b[38;5;28;01mimport\u001b[39;00m Trajectory\n\u001b[1;32m      2\u001b[0m \u001b[38;5;28;01mimport\u001b[39;00m \u001b[38;5;21;01mnglview\u001b[39;00m\n\u001b[1;32m      3\u001b[0m \u001b[38;5;28;01mimport\u001b[39;00m \u001b[38;5;21;01mnumpy\u001b[39;00m \u001b[38;5;28;01mas\u001b[39;00m \u001b[38;5;21;01mnp\u001b[39;00m\n",
      "\u001b[0;31mModuleNotFoundError\u001b[0m: No module named 'ase'"
     ]
    }
   ],
   "source": [
    "from ase.io import Trajectory\n",
    "import nglview\n",
    "import numpy as np\n",
    "#from moviepy.config import change_settings\n",
    "import matplotlib.pyplot as plt\n",
    "from matplotlib.widgets import Button, Slider\n",
    "import mpl_interactions.ipyplot as iplt\n",
    "import os\n",
    "\n",
    "#change_settings({\"FFMPEG_BINARY\": \"/Users/ktrerayapiwat/Software/custom/ffmpeg\"})\n",
    "os.environ[\"FFMPEG_BINARY\"] = \"/Users/ktrerayapiwat/Software/custom/ffmpeg\"\n",
    "traj = Trajectory('./traj/md_0000_seed_1_800K.traj', mode='r')\n",
    "\n",
    "\n",
    "view = nglview.show_asetraj(traj, gui=True, add_unitcell=True)\n",
    "#view.frame=100/\n",
    "view.camera = 'orthographic'\n",
    "view._remote_call(\"setSize\", target=\"Widget\", args=['400px','400px'])\n",
    "view.control.zoom(0.20)\n",
    "view.clear_representations()\n",
    "#view.add_ball_and_stick(radius=0.25, selection='_H or _Ni or _O')\n",
    "view.add_ball_and_stick(radius=0.35, selection='_Ni or _H')\n",
    "view.add_unitcell()\n",
    "#view.control.spin([0, 1, 0], np.pi)\n",
    "#view.add_ball_and_stick(selection='_Ni')\n",
    "view.player.parameters = {'delay':50, 'step':100}\n",
    "view.stage.set_parameters(**{'transparent':True})"
   ]
  },
  {
   "cell_type": "code",
   "execution_count": 2,
   "id": "ffeb9cf5-6584-4da9-891d-c496727213c6",
   "metadata": {},
   "outputs": [
    {
     "data": {
      "application/vnd.jupyter.widget-view+json": {
       "model_id": "ded024aadce44c56b3ebf02d0170b4d6",
       "version_major": 2,
       "version_minor": 0
      },
      "text/plain": [
       "NGLWidget(max_frame=200)"
      ]
     },
     "metadata": {},
     "output_type": "display_data"
    },
    {
     "data": {
      "application/vnd.jupyter.widget-view+json": {
       "model_id": "e89c2187e1ce44a98f835afe03e6adcf",
       "version_major": 2,
       "version_minor": 0
      },
      "text/plain": [
       "Tab(children=(Box(children=(Box(children=(Box(children=(Label(value='step'), IntSlider(value=100, min=-100)), …"
      ]
     },
     "metadata": {},
     "output_type": "display_data"
    }
   ],
   "source": [
    "view"
   ]
  },
  {
   "cell_type": "code",
   "execution_count": 11,
   "id": "e81a5655-e986-44f6-bed0-fef40a953468",
   "metadata": {},
   "outputs": [
    {
     "data": {
      "application/vnd.jupyter.widget-view+json": {
       "model_id": "b721eea86a514a71b20a4d052d5d428c",
       "version_major": 2,
       "version_minor": 0
      },
      "text/plain": [
       "IntProgress(value=0, description='Rendering ...', max=142)"
      ]
     },
     "execution_count": 11,
     "metadata": {},
     "output_type": "execute_result"
    }
   ],
   "source": [
    "from nglview.contrib.movie import MovieMaker\n",
    "movie = MovieMaker(view, \n",
    "                   output='HNi.gif', \n",
    "                   in_memory=True,\n",
    "                   fps=60)\n",
    "movie.make()"
   ]
  },
  {
   "cell_type": "code",
   "execution_count": 3,
   "id": "f28c99bf-0b78-4804-90e4-a81bff02a917",
   "metadata": {},
   "outputs": [
    {
     "data": {
      "image/png": "[encoded data removed]",
      "text/plain": [
       "<Figure size 400x300 with 1 Axes>"
      ]
     },
     "metadata": {},
     "output_type": "display_data"
    }
   ],
   "source": [
    "import matplotlib.pyplot as plt\n",
    "\n",
    "energy = [atoms.get_total_energy() for atoms in traj]\n",
    "time = np.arange(len(traj))\n",
    "\n",
    "fig, ax = plt.subplots(figsize = [4,3])\n",
    "ax.plot(time, energy)\n",
    "ax.set_ylabel('energy (eV)')\n",
    "ax.set_xlabel('time (ps)')\n",
    "fig.tight_layout()\n",
    "#fig.savefig('0.500H.png', dpi=300)"
   ]
  }
 ],
 "metadata": {
  "kernelspec": {
   "display_name": "Python 3 (ipykernel)",
   "language": "python",
   "name": "python3"
  },
  "language_info": {
   "codemirror_mode": {
    "name": "ipython",
    "version": 3
   },
   "file_extension": ".py",
   "mimetype": "text/x-python",
   "name": "python",
   "nbconvert_exporter": "python",
   "pygments_lexer": "ipython3",
   "version": "3.11.7"
  }
 },
 "nbformat": 4,
 "nbformat_minor": 5
}
