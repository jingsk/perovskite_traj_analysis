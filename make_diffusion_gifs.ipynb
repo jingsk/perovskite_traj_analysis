{
 "cells": [
  {
   "cell_type": "code",
   "execution_count": 1,
   "id": "2f378b2f-988f-4aff-9026-5a6c02b45c98",
   "metadata": {},
   "outputs": [
    {
     "data": {
      "application/vnd.jupyter.widget-view+json": {
       "model_id": "a21ceb3e2c3c4a7a94abbbae7ac42ae6",
       "version_major": 2,
       "version_minor": 0
      },
      "text/plain": []
     },
     "metadata": {},
     "output_type": "display_data"
    }
   ],
   "source": [
    "from ase.io import Trajectory\n",
    "import nglview\n",
    "import numpy as np\n",
    "#from moviepy.config import change_settings\n",
    "import matplotlib.pyplot as plt\n",
    "from matplotlib.widgets import Button, Slider\n",
    "import mpl_interactions.ipyplot as iplt\n",
    "import os\n",
    "\n",
    "#change_settings({\"FFMPEG_BINARY\": \"/Users/ktrerayapiwat/Software/custom/ffmpeg\"})\n",
    "os.environ[\"FFMPEG_BINARY\"] = \"/Users/ktrerayapiwat/Software/custom/ffmpeg\"\n",
    "traj=[]\n",
    "traj_full = Trajectory('./traj/md_0000_conc_0.250.traj', mode='r')\n",
    "for atoms in traj_full[::]:\n",
    "    #atoms.translate([atoms.cell[0,0]/2,2,0])\n",
    "    #atoms.wrap()\n",
    "    #traj.append(atoms[:2232]+atoms[2233:])\n",
    "    traj.append(atoms)\n",
    "\n",
    "view = nglview.show_asetraj(traj, gui=True, add_unitcell=True)\n",
    "#view.frame=100/\n",
    "view.camera = 'orthographic'\n",
    "view._remote_call(\"setSize\", target=\"Widget\", args=['400px','400px'])\n",
    "view.control.zoom(0.25)\n",
    "view.clear_representations()\n",
    "#view.add_ball_and_stick(radius=0.25, selection='_H or _Ni or _O')\n",
    "view.add_ball_and_stick(radius=0.35, selection='_Ni or _H')\n",
    "view.add_unitcell()\n",
    "#view.control.spin([0, 1, 0], np.pi)\n",
    "#view.add_ball_and_stick(selection='_Ni')\n",
    "view.player.parameters = {'delay':50, 'step':100}\n",
    "view.stage.set_parameters(**{'transparent':True})"
   ]
  },
  {
   "cell_type": "code",
   "execution_count": 89,
   "id": "ffeb9cf5-6584-4da9-891d-c496727213c6",
   "metadata": {},
   "outputs": [
    {
     "data": {
      "application/vnd.jupyter.widget-view+json": {
       "model_id": "453859ef71b64cb59df9ea6832262c00",
       "version_major": 2,
       "version_minor": 0
      },
      "text/plain": [
       "NGLWidget(max_frame=300)"
      ]
     },
     "metadata": {},
     "output_type": "display_data"
    },
    {
     "data": {
      "application/vnd.jupyter.widget-view+json": {
       "model_id": "8994e133f7884963b6ead5faca319a96",
       "version_major": 2,
       "version_minor": 0
      },
      "text/plain": [
       "Tab(children=(Box(children=(Box(children=(Box(children=(Label(value='step'), IntSlider(value=100, min=-100)), …"
      ]
     },
     "metadata": {},
     "output_type": "display_data"
    }
   ],
   "source": [
    "view"
   ]
  },
  {
   "cell_type": "code",
   "execution_count": 2,
   "id": "f28c99bf-0b78-4804-90e4-a81bff02a917",
   "metadata": {},
   "outputs": [
    {
     "data": {
      "image/png": "[encoded data removed]",
      "text/plain": [
       "<Figure size 400x300 with 1 Axes>"
      ]
     },
     "metadata": {},
     "output_type": "display_data"
    }
   ],
   "source": [
    "import matplotlib.pyplot as plt\n",
    "\n",
    "energy = [atoms.get_total_energy() for atoms in traj]\n",
    "time = np.arange(301)\n",
    "\n",
    "fig, ax = plt.subplots(figsize = [4,3])\n",
    "ax.plot(time, energy)\n",
    "ax.set_ylabel('energy (eV)')\n",
    "ax.set_xlabel('time (ps)')\n",
    "fig.tight_layout()\n",
    "#fig.savefig('0.500H.png', dpi=300)"
   ]
  },
  {
   "cell_type": "code",
   "execution_count": 21,
   "id": "0ae1b3f1-90e5-47e4-9b7b-8021ca78ebc4",
   "metadata": {},
   "outputs": [
    {
     "data": {
      "text/plain": [
       "array([[-0.07912497,  5.21795988,  5.73690251],\n",
       "       [ 2.61471152,  2.5808311 ,  5.56758622],\n",
       "       [ 2.79830001,  3.15843771,  1.75135728],\n",
       "       ...,\n",
       "       [11.97641979, 19.82117736, 16.86129521],\n",
       "       [24.43470391, 18.91163833, 23.93420817],\n",
       "       [12.72905899, 25.81947275, 20.03546435]])"
      ]
     },
     "execution_count": 21,
     "metadata": {},
     "output_type": "execute_result"
    }
   ],
   "source": [
    "traj[125].get_positions()"
   ]
  },
  {
   "cell_type": "code",
   "execution_count": 22,
   "id": "649d071e-f33f-4634-97b3-6b5d3a486996",
   "metadata": {},
   "outputs": [
    {
     "data": {
      "text/plain": [
       "array([[-0.13972617,  5.16228187,  5.52257291],\n",
       "       [ 2.68366446,  2.68423897,  5.54425071],\n",
       "       [ 2.6955935 ,  2.96193592,  1.80005671],\n",
       "       ...,\n",
       "       [11.78552027, 19.99093599, 16.9891491 ],\n",
       "       [24.26304323, 18.88708304, 23.81262503],\n",
       "       [12.6144628 , 25.85163379, 20.22964258]])"
      ]
     },
     "execution_count": 22,
     "metadata": {},
     "output_type": "execute_result"
    }
   ],
   "source": [
    "traj[126].get_positions()"
   ]
  },
  {
   "cell_type": "code",
   "execution_count": null,
   "id": "31bfa704-203d-4f37-9141-c74bc6a5914d",
   "metadata": {},
   "outputs": [],
   "source": []
  },
  {
   "cell_type": "code",
   "execution_count": 68,
   "id": "c7bfac7d-7f12-4262-a60a-e9d10632480a",
   "metadata": {},
   "outputs": [
    {
     "data": {
      "text/plain": [
       "array([[ 0.22790094, -0.03840174,  0.01963485],\n",
       "       [-0.00244723,  0.1224804 ,  0.05847658],\n",
       "       [ 0.07777134, -0.07012828,  0.11327577],\n",
       "       ...,\n",
       "       [ 0.08945735,  0.26426779, -0.15714898],\n",
       "       [-0.1329625 , -0.09288332,  0.08320446],\n",
       "       [ 0.01064371,  0.15816481,  0.14096916]])"
      ]
     },
     "execution_count": 68,
     "metadata": {},
     "output_type": "execute_result"
    }
   ],
   "source": [
    "d = traj[13].get_positions() - traj[0].get_positions(); d\n",
    "#d = traj[126].get_positions() - traj[0].get_positions(); d"
   ]
  },
  {
   "cell_type": "code",
   "execution_count": 69,
   "id": "40e6bad1-59c6-485b-b1c5-0e7746b7e5fd",
   "metadata": {},
   "outputs": [
    {
     "data": {
      "text/plain": [
       "array([[-56.94454456, -44.10186224,  -1.61839684],\n",
       "       [ -1.84362583,  -1.02939313,  -1.43274649],\n",
       "       [ -1.63850009,  -0.97147094,  -1.26935612],\n",
       "       ...,\n",
       "       [  1.32955089,   1.29598152,   1.5615549 ],\n",
       "       [  1.59332647,   1.49167951,   3.6664316 ],\n",
       "       [  1.85953775,   1.9451281 ,  29.33288128]])"
      ]
     },
     "execution_count": 69,
     "metadata": {},
     "output_type": "execute_result"
    }
   ],
   "source": [
    "np.sort(d,axis=0)"
   ]
  },
  {
   "cell_type": "code",
   "execution_count": 71,
   "id": "975d48e6-68e8-4fbe-94c3-7f831c91fd44",
   "metadata": {},
   "outputs": [
    {
     "data": {
      "text/plain": [
       "(array([776]), array([0]))"
      ]
     },
     "execution_count": 71,
     "metadata": {},
     "output_type": "execute_result"
    }
   ],
   "source": [
    "np.where(d==np.min(d[:,0]))"
   ]
  },
  {
   "cell_type": "code",
   "execution_count": 72,
   "id": "ea300f51-93ec-4051-ba99-d9c554a599b6",
   "metadata": {},
   "outputs": [
    {
     "data": {
      "text/plain": [
       "(array([776]), array([2]))"
      ]
     },
     "execution_count": 72,
     "metadata": {},
     "output_type": "execute_result"
    }
   ],
   "source": [
    "np.where(d==np.max(d[:,2]))"
   ]
  },
  {
   "cell_type": "code",
   "execution_count": 53,
   "id": "124383ac-ac8e-4e18-b78c-089295c99254",
   "metadata": {},
   "outputs": [
    {
     "data": {
      "text/plain": [
       "Cell([31.74247183237098, 33.374181725824705, 30.323236622082415])"
      ]
     },
     "execution_count": 53,
     "metadata": {},
     "output_type": "execute_result"
    }
   ],
   "source": [
    "traj[0].cell"
   ]
  },
  {
   "cell_type": "code",
   "execution_count": 54,
   "id": "f736cde2-a7b4-4e5e-8905-32a62360a344",
   "metadata": {},
   "outputs": [
    {
     "data": {
      "text/plain": [
       "Atom('H', [7.609788931611967, 21.483129363549278, 12.120852788045708], momentum=[0.6505063460461632, 0.16548424176473428, 0.08498999304585225], mass=2.014, magmom=0.0, index=2232)"
      ]
     },
     "execution_count": 54,
     "metadata": {},
     "output_type": "execute_result"
    }
   ],
   "source": [
    "traj[0][2232]"
   ]
  },
  {
   "cell_type": "code",
   "execution_count": 45,
   "id": "0cc10280-2b62-4f94-8505-d162dd107e75",
   "metadata": {},
   "outputs": [
    {
     "data": {
      "text/plain": [
       "array([50.21765303, 27.25966969, 82.48103471])"
      ]
     },
     "execution_count": 45,
     "metadata": {},
     "output_type": "execute_result"
    }
   ],
   "source": [
    "traj[126].get_positions()[2232]"
   ]
  },
  {
   "cell_type": "code",
   "execution_count": 46,
   "id": "c869fc30-19b1-43fe-9c44-a0303a78016c",
   "metadata": {},
   "outputs": [
    {
     "data": {
      "text/plain": [
       "array([ 8.80259847, 21.86596108, 11.48496087])"
      ]
     },
     "execution_count": 46,
     "metadata": {},
     "output_type": "execute_result"
    }
   ],
   "source": [
    "traj[125].get_positions()[2232]"
   ]
  },
  {
   "cell_type": "code",
   "execution_count": 55,
   "id": "2ad2b4ed-1674-4351-a0d4-6f4eb6a3fe07",
   "metadata": {},
   "outputs": [
    {
     "data": {
      "text/plain": [
       "array([41.41505455,  5.39370861, 70.99607384])"
      ]
     },
     "execution_count": 55,
     "metadata": {},
     "output_type": "execute_result"
    }
   ],
   "source": [
    "traj[126].get_positions()[2232]-traj[125].get_positions()[2232]"
   ]
  },
  {
   "cell_type": "code",
   "execution_count": 56,
   "id": "9c9d6dfb-889d-4156-a1df-997ed91a09d9",
   "metadata": {},
   "outputs": [
    {
     "data": {
      "text/plain": [
       "Cell([31.74247183237098, 33.374181725824705, 30.323236622082415])"
      ]
     },
     "execution_count": 56,
     "metadata": {},
     "output_type": "execute_result"
    }
   ],
   "source": [
    "traj[0].cell"
   ]
  },
  {
   "cell_type": "code",
   "execution_count": 59,
   "id": "7419663e-25a2-4089-bfad-62992f1e6345",
   "metadata": {},
   "outputs": [
    {
     "data": {
      "text/plain": [
       "(array([2232]), array([0]))"
      ]
     },
     "execution_count": 59,
     "metadata": {},
     "output_type": "execute_result"
    }
   ],
   "source": [
    "np.where(d==np.max(d[:,0]))"
   ]
  },
  {
   "cell_type": "code",
   "execution_count": 60,
   "id": "29beaf4d-7b2c-45e2-afe8-eb8d3d1f5258",
   "metadata": {},
   "outputs": [
    {
     "data": {
      "text/plain": [
       "(array([2232]), array([1]))"
      ]
     },
     "execution_count": 60,
     "metadata": {},
     "output_type": "execute_result"
    }
   ],
   "source": [
    "np.where(d==np.max(d[:,1]))"
   ]
  },
  {
   "cell_type": "code",
   "execution_count": 41,
   "id": "e4cfd9f3-fe1d-44bd-a524-39d2f4c9870a",
   "metadata": {},
   "outputs": [
    {
     "data": {
      "text/plain": [
       "(array([2232]), array([2]))"
      ]
     },
     "execution_count": 41,
     "metadata": {},
     "output_type": "execute_result"
    }
   ],
   "source": [
    "np.where(d==np.max(d[:,2]))"
   ]
  },
  {
   "cell_type": "code",
   "execution_count": 3,
   "id": "6330dc87-5ee3-4e8c-9e85-67b753f262be",
   "metadata": {},
   "outputs": [
    {
     "data": {
      "application/vnd.jupyter.widget-view+json": {
       "model_id": "053f60642c694d1da07ea43ca8578e80",
       "version_major": 2,
       "version_minor": 0
      },
      "text/plain": [
       "IntProgress(value=0, description='Rendering ...', max=171)"
      ]
     },
     "execution_count": 3,
     "metadata": {},
     "output_type": "execute_result"
    }
   ],
   "source": [
    "from nglview.contrib.movie import MovieMaker\n",
    "movie = MovieMaker(view, \n",
    "                   output='E6.0_HNi.gif', \n",
    "                   in_memory=True,\n",
    "                   fps=60)\n",
    "movie.make()"
   ]
  },
  {
   "cell_type": "code",
   "execution_count": 15,
   "id": "df5fae4b-90a7-4ce1-94fc-36994cdfd6fb",
   "metadata": {},
   "outputs": [
    {
     "data": {
      "text/plain": [
       "'H576Nd1152Ni1152O3456'"
      ]
     },
     "execution_count": 15,
     "metadata": {},
     "output_type": "execute_result"
    }
   ],
   "source": [
    "traj[0].get_chemical_formula()"
   ]
  },
  {
   "cell_type": "code",
   "execution_count": 4,
   "id": "fa109059-800b-4e60-9d41-f03ecde042da",
   "metadata": {},
   "outputs": [],
   "source": [
    "def gau(x, mu, sig):\n",
    "    return 1/sig/np.sqrt(2*np.pi)*np.exp(-(x-mu)**2/(2*sig**2))\n",
    "\n",
    "x = np.linspace(0,traj[0].cell[0,0],10000)\n",
    "#H_grad = np.zeros(x.size)\n",
    "\n",
    "def calc_H_grad(x,timestep):\n",
    "    y = np.zeros(x.size)\n",
    "    for mu in H_pos[timestep,:,0]:\n",
    "        y+=gau(x,mu,3)\n",
    "    return y\n",
    "\n",
    "def calc_H_grad2(timestep):\n",
    "    y = np.zeros(x.size)\n",
    "    for mu in H_pos[timestep,:,0]:\n",
    "        y+=gau(x,mu,3)\n",
    "    return np.expand_dims(y, axis=0)\n",
    "\n",
    "from mpl_toolkits.axes_grid1 import AxesGrid\n",
    "import matplotlib\n",
    "\n",
    "def shiftedColorMap(cmap, start=0, midpoint=0.5, stop=1.0, name='shiftedcmap'):\n",
    "    '''\n",
    "    Function to offset the \"center\" of a colormap. Useful for\n",
    "    data with a negative min and positive max and you want the\n",
    "    middle of the colormap's dynamic range to be at zero.\n",
    "\n",
    "    Input\n",
    "    -----\n",
    "      cmap : The matplotlib colormap to be altered\n",
    "      start : Offset from lowest point in the colormap's range.\n",
    "          Defaults to 0.0 (no lower offset). Should be between\n",
    "          0.0 and `midpoint`.\n",
    "      midpoint : The new center of the colormap. Defaults to \n",
    "          0.5 (no shift). Should be between 0.0 and 1.0. In\n",
    "          general, this should be  1 - vmax / (vmax + abs(vmin))\n",
    "          For example if your data range from -15.0 to +5.0 and\n",
    "          you want the center of the colormap at 0.0, `midpoint`\n",
    "          should be set to  1 - 5/(5 + 15)) or 0.75\n",
    "      stop : Offset from highest point in the colormap's range.\n",
    "          Defaults to 1.0 (no upper offset). Should be between\n",
    "          `midpoint` and 1.0.\n",
    "    '''\n",
    "    cdict = {\n",
    "        'red': [],\n",
    "        'green': [],\n",
    "        'blue': [],\n",
    "        'alpha': []\n",
    "    }\n",
    "\n",
    "    # regular index to compute the colors\n",
    "    reg_index = np.linspace(start, stop, 257)\n",
    "\n",
    "    # shifted index to match the data\n",
    "    shift_index = np.hstack([\n",
    "        np.linspace(0.0, midpoint, 128, endpoint=False), \n",
    "        np.linspace(midpoint, 1.0, 129, endpoint=True)\n",
    "    ])\n",
    "\n",
    "    for ri, si in zip(reg_index, shift_index):\n",
    "        r, g, b, a = cmap(ri)\n",
    "\n",
    "        cdict['red'].append((si, r, r))\n",
    "        cdict['green'].append((si, g, g))\n",
    "        cdict['blue'].append((si, b, b))\n",
    "        cdict['alpha'].append((si, a, a))\n",
    "\n",
    "    newcmap = matplotlib.colors.LinearSegmentedColormap(name, cdict)\n",
    "    try:\n",
    "         plt.colormaps.register(cmap=newcmap)\n",
    "         return True\n",
    "    except ValueError:\n",
    "         pass\n",
    "    return False\n",
    "\n",
    "    return newcmap\n",
    "\n",
    "# orig_cmap = matplotlib.cm.RdBu\n",
    "# shifted_cmap = shiftedColorMap(orig_cmap, midpoint=0.35, name='shifted_RdBu35')\n",
    "\n",
    "# orig_cmap = matplotlib.cm.hot\n",
    "# shifted_cmap = shiftedColorMap(orig_cmap, midpoint=0.25, name='shifted_hot25')            \n",
    "\n",
    "\n",
    "# orig_cmap = matplotlib.cm.seismic\n",
    "# shifted_cmap = shiftedColorMap(orig_cmap, midpoint=0.25, name='shifted_seismic25')            \n",
    "\n",
    "\n",
    "\n",
    "orig_cmap = matplotlib.cm.bwr\n",
    "#shifted_cmap = shiftedColorMap(orig_cmap, midpoint=0.25, name='shifted_seismic25')            \n",
    "shifted_cmap = shiftedColorMap(orig_cmap, midpoint=0.25, name='shifted_bwr25')            "
   ]
  },
  {
   "cell_type": "code",
   "execution_count": 5,
   "id": "d6d2323f-e543-4388-a736-3b9e0b412f77",
   "metadata": {},
   "outputs": [
    {
     "name": "stdout",
     "output_type": "stream",
     "text": [
      "Warning: Cannot change to a different GUI toolkit: ipympl. Using widget instead.\n"
     ]
    },
    {
     "data": {
      "application/vnd.jupyter.widget-view+json": {
       "model_id": "4a43454db12a41c1bdae53fea8efd046",
       "version_major": 2,
       "version_minor": 0
      },
      "text/plain": [
       "VBox(children=(HBox(children=(Play(value=0, max=171), IntSlider(value=0, description='timestep', max=171, read…"
      ]
     },
     "metadata": {},
     "output_type": "display_data"
    },
    {
     "data": {
      "application/vnd.jupyter.widget-view+json": {
       "model_id": "790aaf1da0eb46f590885938f2798d67",
       "version_major": 2,
       "version_minor": 0
      },
      "image/png": "[encoded data removed]",
      "text/html": [
       "\n",
       "            <div style=\"display: inline-block;\">\n",
       "                <div class=\"jupyter-widgets widget-label\" style=\"text-align: center;\">\n",
       "                    Figure\n",
       "                </div>\n",
       "                <img src='data:image/png;base64,iVBORw0KGgoAAAANSUhEUgAAAZAAAADICAYAAADGFbfiAAAAOXRFWHRTb2Z0d2FyZQBNYXRwbG90bGliIHZlcnNpb24zLjguMCwgaHR0cHM6Ly9tYXRwbG90bGliLm9yZy81sbWrAAAACXBIWXMAAA9hAAAPYQGoP6dpAAAs8klEQVR4nO3de1xUdf748dfAMMMdBEUggXTVTfNaeLfEvJTrWl5St6xMXcvM0qwsv26blautu3lt1dXKy1pZv1LXMlO2vGSl5YV0zcpVTFMIr4DIdeb8/vgwAwOCMHNgBub9fDzOQ87185kz47zncz0GTdM0hBBCiGrycXcGhBBC1E0SQIQQQjhFAogQQginSAARQgjhFAkgQgghnCIBRAghhFMkgAghhHCKBBAhhBBOkQAihBDCKRJAhBBCOEUCiBBCCKdIABFCCOEUCSBCCCGcYnR3BtzBarVy9uxZQkJCMBgM7s6OEMINNE0jOzub2NhYfHyc/y2dl5dHQUFBue0mkwl/f39XsujxvDKAnD17lri4OHdnQwjhAU6fPk2TJk2cOjcvL4+mAQGkX2NfdHQ0qamp9TqIeGUACQkJKf7rNBDqzqy4xM8PgoMhIACCgiAwUP3t7w9ms9pvNoOvL/j4qAXAaoWiIrBYIC8P8vPh6lXIyVFLVhZkZkJhoXtfnzcJCICwMLWEhKj3NShIbTeb1WI0qvfSYADbU3wsFvVe5uer96uwEAoK1LptsW0rKlJ/FxWVfAasVnUd27+lf4jbPjNlF4PBcb30sWVZrSWL7TNXVKSWggKVn7w8d33WsoC4Ut8H1VdQUEA6cNrPz+GbJAuIS0+noKBAAkh9U1JtFUpdDiAGQ8l/Zl9ftRiNavHzK1mMxvIBxHaexaIW25dT6S8JUXtKv49l30OTSS227aUDSFGROk/TSt4zTSt5Xy0W9X77+pZsL/2lX1ZVAkjZpfSx13pdtkXT1FI2GLn7s6ZHNXao0Uho6etomlf8AvPKACKEELqyRXYbL3nQqwQQIYRwlQQQIYQQTrHV/9rYGpXqOQkgQgjhKltDo40EECGEEFUiAUQIIYRTTCYJINURERFRreMNBgMHDhwgISHB2SSFEMIz2frR21gs7stLLXI6gFy+fJkFCxYQFhZ23WM1TWPixIlYvOSmCiG8jG0glY27B7fUEpeqsP7whz8QFRVVpWOfeOIJV5ISQgjPJQGkeqzVrOPLzs52NikhhPBsEkCEEEI4xTYHjZep0VeclpZGYWEh8fHxNZmMEEK4l22iMi9Tow+UuuOOO2jatGlNJiGEEO5nCyClFy9QowFkzZo1fP7559U6Z9euXQwaNIjY2FgMBgMbN2502P/www9jMBgclq5du+qYayGEqCYvDSA1+io7depU7XNycnJo3749Y8aMYdiwYdc85q677mLlypX2dZPJ5HQehRDCZba5922kEd09BgwYwIABAyo9xmw2Ex0dXUs5EkKI6yhb6vCS2Xh1qcLy8fHB19e3wkVvO3bsICoqipYtWzJ+/HgyMjIqPT4/P5+srCyHRQghdCNVWM7bsGGDw3phYSEHDx5k9erVvPTSS3okYTdgwACGDx9OQkICqampvPDCC9xxxx3s378fs9l8zXPmzJmjez6EEMLOS0sgugSQe+65p9y2e++9l5tvvpn33nuPcePG6ZEMACNHjrT/3aZNGxITE0lISGDz5s0MHTr0mudMnz6dqVOn2tezsrKIi4vTLU9CCC8nAUR/Xbp0Yfz48TWZBDExMSQkJHDs2LEKjzGbzRWWToQQwmVlBxLKbLyuyc3NZfHixTRp0qSmkgDgwoULnD59mpiYmBpNRwghKlS2BCIBpOoaNGiAoVS3NU3TyM7OJjAwkLVr11brWleuXOF///uffT01NZWUlBQiIiKIiIhg5syZDBs2jJiYGE6ePMn//d//0bBhQ4YMGaLHSxFCiOqTAOK8BQsWOKz7+PjQqFEjunTpQoMGDap1rX379tG7d2/7uq3tYvTo0SxdupTDhw+zZs0aLl++TExMDL179+a9994jJCTE5dchhBBOMZnU4mV0CSCjR4/W4zIAJCUloVXSALV161bd0hJCCF2UbQPxkmcfeUdnZSGEqEllq7C8JIDU6FxYrVq1qpGBhEII4VFkIKH+5syZQ2ZmZk0mIYQQ7uelJZAaDSCDBw+uycsLIYRnKNsGUlTkvrzUIu8oZwkhRE0qWwKRKqzq+eCDD3j//fc5deoUBQUFDvsOHDigVzJCCOF5vDSA6NKIvmjRIsaMGUNUVBQHDx6kc+fOREZGcuLEietOzS6EEHWebRxI6cUL6BJAlixZwvLly3n99dcxmUxMmzaN5ORknnzySWlEF0LUf7Y2ENviJb1PdQkgp06donv37gAEBASQnZ0NwIMPPsi7776rRxJCCOG5vLQbry4BJDo6mgsXLgCQkJDAnj17ADWPVWWjyoUQol6QAOK8O+64g48++giAcePG8dRTT9GvXz9GjhwpkxwKIeo/Lw0gurzK5cuXYy2efXLChAlERESwe/duBg0axIQJE/RIQgghPJeX9sLS5VX6+Pjg41NSmBkxYgQjRozQ49JCCOH5yg4klEb0yh06dMhe6qiKI0eOUOQlozOFEF7GS6uwnA4gHTt2tDecV0W3bt04deqUs8kJ4XWs1gIyM49y8eIh8vKq/n9NuIGXjgNxOkxqmsYLL7xAYGBglY4vOzpdCHFtOTnfkZo6h3PnNmK15tu3R0TcTOvWo2nbdjxmc7j7MijKkzaQ6rn99tv58ccfq3x8t27dCAgIcDY5oTOr1UJ6+mekpe3iypWfsVrNGI3tMBoHA/Huzp5X0jQLv/76Ahcu/BUoXz188eIRdu+exr59r9Kly4u0bz8Rmc7OQ3hpG4jTn74dO3bomA1RWzTNyvHjazl48AWuXr1WleJT+PuPQtP+DkTVdva8lqblc+nSCPLyNtm3mUwNiYnph9kcxOXLh8jI+AaAvLyL7Nw5mR9/fIc+fVYREnKTu7ItbKQEIuq73Nxf2bXrftLSPq/kKCt5ef8CPgU2At1rJW/ezUJBwSgsFlvw8OU3v3mJ1q2fITjYjL8/mM1w5cox9u17mR9+WAtAevpe1q3rSOfOf6Fly8mAd/zq9UheGkBq9ImEwnNcuLCfjz66xSF4REffya23vkePHkdp3/4boqNfwsenQfHec0BvVCARNetZLJYPATAYArnppi00bToDX1+zw1Hh4S24665/MXLkl4SHtwDAYsnj66+fZsuWXmRl/VTrORfFpBeWqK8yMr5k27Y7uHr1LAABAbEkJX3K7bd/yg03jCAo6CZCQjoRHf1n4uN/wM/vjuIzC4ChwJfuyroXWA/ML/7bj7i49YSH96v0jNjY7owalUKHDpMBA6De482b2/Pjj/OxWvXvLm+1XqGg4L/k5e3h6tXt5Obuo6AgFU3zjifvXZeXBhDveJVeLCPjC3buvAuL5SoAUVE96NXrQ4zGxtd86qbRGEV4+KecP38fmvYhkIsKIgeAG2ox594gFRhrXwsLW0Bw8J1VOtPPL5CkpAU0bTqUzz4bQ1bWCSyWPL77birHjy+nefNXCA8fQnWrtTTNisWSSlHRISyWQxQVHaKw8BBFRceB8vPa+fgE4e9/C6GhA2nQYDhmc7NqpVdveGkjui4lkJycHD0uA8CuXbsYNGgQsbGxGAwGNm7c6LBf0zRmzpxJbGwsAQEBJCUlceTIEd3Sr09yck6we/cQe/CIje1P//7bCAhoXOl5BoMfRuPbQJ/iLRnAcFSJROhDAx4F1OMOfH1HEhj4WLWvcsMNtzN8+CFatXrCvu3KlR9ISRnO118ncPLkNDIzt1FY+KvDxKaalk9R0Sny85PJyVlIVtYjXLzYjYyMUM6fb87ly0PJzp5Jbu56ior+x7WCB4DVmsPVq1+Qnv48R4/+hhMn7iEn56tqv446T0ogzmvcuDEjRoxg7Nix9OzZ06Vr5eTk0L59e8aMGcOwYcPK7Z87dy7z5s1j1apVtGzZklmzZtGvXz9+/PFHQkJCXEq7PikqymbPnnsoKFAD0GJi+tGnzyZ8fc1UZQIBg8EMvAfcApwCvgZmAzNrKste5m0gufjvOEym5RgMBqeu5OcXRNeui4iP/wP790/j/HlV5Ziff4azZ/8G/A1Q76nBYEbTNDQtu8rXNxgC8PNri8nUCl/fMHx8/NG0K1gsZ8nLS6Gw8KT92KysTWRlbSI8fASxsX/DaPSSLuFlBw/KQMKqe/fdd1m1ahV9+vQhISGBsWPH8tBDDxEbG1vtaw0YMKDCpxhqmsaCBQuYMWMGQ4cOBWD16tU0btyYd955h0cffdSl11FfaJqVgwcfICvrvwCEhv6WXr3eL9coe32RwAdAN8AC/AW4B+ioZ3a90HngqVLr/8BgCHX5qo0adad37y/45ZetHD++lHPnNju0UWhaPpqWX8kVwNe3afF4oHaYTO0wmdpjMjXD19cXHx+uueTnHyc7+30uXPgHhYVnALh8+X2ysjYTEzOP8PDx2Npq6i0v7YWly6scNGgQgwYN4sKFC6xZs4ZVq1bxwgsvcOeddzJ27FjuvvtujDrc0NTUVNLT0+nfv799m9lsplevXnz11VcSQIodP/4Cv/6quoT6+YWTlLQJkyncyat1AmYALwNFwGhgH+Adv7BqxjOoIAKqanCQblc2GAw0bnwXYWF3kZ2dwblz27l8eTe5uccpKPgFq7UQAB+fSAyGRvj4NMNovBlf39b4+rbGaCwJZLYAcb2Ckdn8GwICphMV9TQXL64kLe1PWCznsVpzOHPmUTIz/01s7JtAtG6v0+N4aRuIrmEyMjKSp556iqeeeorFixfz7LPP8sknn9CwYUMmTJjA888/X+WpT64lPT0dUFVmpTVu3Jiff/65wvPy8/PJzy/55ZWVleV0HjzduXPvcvLk7OI1H7p3f4/Q0JYuXnUG8G/gO+AwsBB41sVreqvPgNXFf4eh7mXNMJmiaNhwJKGhIykogKIi7P9arSX/AlWq1rweHx8TDRs+Snj4SNLSpnHhwgoArlz5hOPH29G48Ur8/Qe6npAn8tISiK7deNPT05k7dy6tWrXi+eef59577+Wzzz5j/vz5bNiwgcGDB+uSTtm6Yk3TKq0/njNnDmFhYfYlLi5Ol3x4mpycbzl2rKRXT9u284iJ6V/JGVVlAt6kpBriJeAXHa7rbXJRDec2c4EYN+Wl5hiN4cTFLadp048xGtWPPYvlHGfP/p7z55/Aas11cw5rgJc2ousSQNavX8+gQYOIj4/nnXfe4fHHH+fMmTOsXbuW3r17M2rUKNatW+fy9CfR0aoIbCuJ2GRkZJQrlZQ2ffp0MjMz7cvp06ddyocnKiw8y4kTg7Fa8wCIixvHb37zpI4p3ArYHg6Wg6qGEdXzCnC8+O+ewB/dmJeaFxY2kJYtDxMSUlJFl5X1Or/+2pnCwv+6MWc1QAKI88aMGUNsbCxffvklKSkpTJo0ifDwcIdjmjVrxowZM1xKp2nTpkRHR5OcnGzfVlBQwM6dO+neveIpN8xmM6GhoQ5LfaJpuZw5M4TCQjVQMDy8J23bLnG6V0/FZgENi/9+D6hsShTh6BC23lDgByzHG8bxGo2NiI//N9HR/8Bg8AegsPC/nDuXSG7u6w5di+s0WxuIbZE2kKpLS0u7bttGQEAAL7744nWvdeXKFf73v//Z11NTU0lJSSEiIoL4+HimTJnC7NmzadGiBS1atGD27NkEBgZy//33u/w66iJN07h0aTx5eWqiPbM5nnbtPsTHpyYauSOAVyn55TwJSEEa1K/HAjyC6oQA8H9AK/dlp5YZDAYiIiZiNvciLe0+CgoOA/nk5DyB0bgVg+EtoJG7s+kaaQNxXkhICBkZGeW2X7hwAd9qRuJ9+/bRsWNHOnZUXUWnTp1Kx44d+fOf/wzAtGnTmDJlChMnTiQxMZEzZ86wbds2rx0Dkpc3l6tX3wbUqOBWrTZhMtXkLLpjgC7Ffx8FFtVgWvXFUmBv8d+/Baa7MS/uYzbfTGzsNwQHl1StFhV9TGFhW2Cr+zKmBy99oJQuAaSiYmh+fj6mat7IpKSk4oFOjsuqVasA9Wtm5syZpKWlkZeXx86dO2nTpo2rL6FOslo/Ije35Mvoxhv/RXBw+xpO1QdYQkmD+kzgTA2nqZcMVK+n/kBjwB8IBxKBqcAXVDTi2nk/Ac+VWl8OVHc8Tv3h4+NPRMRCIiI2YzDYfuj8CtyFKtledlveXOKlbSAuvcpFi9SvT4PBwBtvvEFwcLB9n8ViYdeuXdx0kzyroGYcoajofmxfeA0bvlw891FtuAXVoL6Ukgb1d2spbWdkAnNQwSOvzL58YH/xMh9oj/rCH4nrv68KgVHA1eL1R4HbXbxm/eDv/zsaNDhEZubDWCy2GZ/fBDYD/0DNv1Z3aD6+aD6+DuvewKUAMn++mkVU0zSWLVvmUF1lMpm48cYbWbZsmWs5FNdwAbgbuAJAQMBwIiP/VMt5mAX8P9SAuHWoOv7etZyHqvgS9SVedpxQIyAWyAZOUvIEwO+A+4EFqIDiyvNQpqMGXQK0BF5z4Vr1j49PYwIDN3P16j+xWJ5DvRfpwDBUAHmdutLNuahILaXXvYFLASQ1NRWA3r17s379eho0aHCdM4TrCoB7gRMA+Pp2pEGDVTXQ4+p6yjaoP4768vWr5XxU5p/AREqCg6l4fTyqEdt2zy4BH6N++draKr4BegAP4Nx4jZWUBAwj8A4QVO1XUN8ZDD74+j6GxfJ71HvzcfGe9ahefn9HzVjs2VOheGsA0aUNZPv27RI8aoWG6vm0o3i9McHB/8bHx/nR/a4p26Bec6Oqq28+qprNFjxuA34o3t4axy+kBsCDwB5UY+7NpfatRZUe/kbVZyP+AFUis1mMGkcjKhYHbEJVhdp6ZF1G/UDpC3j22C1bACm9eAOnSyBTp07llVdeISgoiKlTp1Z67Lx585xNRjhYAKwo/tuM0bgRX193jqr3Qf1q74QKbi+h2g7cmScNNenjC6W2PYMqLVWlXro/qmvyCuBPwEVUVeE04A1UkLyrkrQXFqdnm8RwEiUDMEXlDMAfgH6oTg1rird/jvqhshlPncjTW0sgTgeQgwcPUlhYaP+7IrVftVJfbcZx9Pdb+Ph0dVdmSrGNUF+K+qIdA2zDPYPkNNQYi1dLbXsFNZdXdT6HRuAxYAQqiPyz+No/AQNQX3DjUc9LiUA1xG9HNdTvKnWdMaigL6onEjVf2P2ojgc/A2moUuSnqFH8nsVicQwa13pYW33kdADZvn37Nf8WNeG/wH2UVMe8gPrP5Slmo6ofzqAmC3wd0HMalaqwoqZILz0u5TXUL1lnRaIC4yPAE5Q82jeZkmd5hKB6opWdjfA51H2p/6PNa86dqE4I9wBfoe7zQFSJxLOqBAsK1FJ63RvUyKc7KyuLjRs38sMPP9TE5b1MBmq6b9sDgO7F8x7qFA6sKrX+HGrW3tpiQf1SLR08luBa8CitI2qMyFogocy+bByDR3PgE1QpSIKH6xoC/0EFE4AsVCnQs9pEvLUNRJdP+IgRI3j99dcByM3NJTExkREjRtC2bVs+/PBDPZLwUjnA71HdTEH96lqNZ34x9aWk1JGH+tV4oRbSLQQeQrVPgLo3q1BVUHoyoLoDn0CVPp5E9dJqjRoX8yDwIfA96gtO6CcA1SvrtuL1c6iuvmXH9LiPBBAX7Nq1i9tuU2/uhg0b0DSNy5cvs2jRImbNmqVHEl6oCNUg/W3x+g2oZ3K4q8dVVbxKSdVCKuphSZU/Ac81uajxAu8UrxtRvXhG12CaPqhguRDYDRxBDUJcU5wXT+rGXJ8EAhuAG4vXv8WTnkljawOxLd7SBqJLAMnMzCQiIgKATz/9lGHDhhEYGMjAgQM5duyYHkl4GQ31C3pz8XoosAUVRDxZAOo/uW1q/e2oIFITFcKXUL2hbOMGzKgSwIgaSEt4hkjU58u/eP111GfM/aQE4oK4uDi+/vprcnJy+PTTT+2PnL106RL+/v7XOVuU9wolVTImYCPQ1m25qZ441H9yW0npI9So+cs6pnEYNX+VrcdTMCrA3q1jGsIzdQD+Wmp9LLYZGdxJAogLpkyZwqhRo2jSpAmxsbEkJSUBqmqrbdu68sXnKd4ESk97vxrPnCKkMt1QgcP242Er0JWS6jhnWVEN5V2xjcRXjazbqXv3SDhvEiVzip1EdZ92LwkgLpg4cSJff/01b731Frt378bHR122WbNm0gZSLe/jOIL5b6iBVXXRHajAEVm8/iPqi38CJZ0CqkpD9f/vAkymZHLCW1DtD4ku5lXULT6oErqtvek1Sn5QuIe3toHoNudwYmIiiYmO/5EHDhyo1+W9wMeoXj62LqFTgKfdlht93I4qddwLHEC9tn+iRnnfAQxBlVZupvxDqXKKz/kc1Uj+U5n9E1HzJAXUUN6FZ2uBGvczF9VR4xlUTy33kJHoLrBYLKxatYrPPvuMjIwMrFbHQVWffy6PPq3cZ6gvWdunbhzqV1V9GMXfFDXH1DzUDL5XUIHkP8WLTSNUZwEN1V5ysYLrtUPNLSXToosZqCreX1HtbnspmZutdhUUgJ+f47o30CWATJ48mVWrVjFw4EDatGkj05dUyw5U46+tu+sfUL/SPXGsh7P8UIMLx6O+/FdRvhrrXPFSkd6oUsdQ6te9Ec4LRc2/Zptr7EVUVWftkxKIC9atW8f777/P7373Oz0u50W2oL4QbQOi7kaNJ6ivD6OJQP0n/zOq7WI3atr0VNQ0KLnFxwWjenO1QM171AeIr+3MijphDGr80UlUm9uXqAGetUvmwnKByWSiefPmelzKi6xHlTYKi9d/D7yHdwxEM6AavqXxW7jKhJobblzx+p9RVcK1y1tLILrUBTz99NMsXLiwwmeji9JsU34PpyR4jEAFFBkzI0T1PYSagwxUp4s9tZ4Db+3Gq0sJZPfu3Wzfvp0tW7Zw88034+fn+Ct6/Xr39Y7wLEWoOZSWlto2GjX2o75WWwlR04yoxwfbSiGvogbf1h5vLYHoEkDCw8MZMmSIHpeqx35BddMt/byIGcDLSKOwEK56AFV9dQY1Z9z3qIkua4cEEBesXLlSj8vUYx+hGvtss9P6oQZCPeS2HAlRv5hQ46amoqZ+L/t8lprlrY3ouv30LSoq4j//+Q///Oc/yc5Wz644e/YsV67oO0/NzJkzMRgMDkt0dLSuaegnA1XquJuS4BGH6rorwUMIfY1HDT79FGhTqynbHihVevEGupRAfv75Z+666y5OnTpFfn4+/fr1IyQkhLlz55KXl8eyZcv0SMbu5ptv5j//KRmE5uvrae0HVuAt1HO0L5XaPhjV3hHhhjwJUd8F465npksVlgsmT55MYmIi3333HZGRkfbtQ4YM4Y9//KMeSTgwGo0eXOo4ino63heltjVAzWs1lvoxulwIUZoEEBfs3r2bL7/8EpPJcT6jhIQEzpw5o0cSDo4dO0ZsbCxms5kuXbowe/ZsmjVrVuHx+fn55OeXPNgoKytL9zypQXCzUIGisNT2B1DTkkTVQJpCCE8gbSAusFqtWK5xx3755RdCQkL0SMKuS5curFmzhq1bt7JixQrS09Pp3r07Fy5U/PjUOXPmEBYWZl/i4uJ0zZOaTrwNMJuS4PEbYBvwLyR4CFG/ees4EF0CSL9+/ViwYIF93WAwcOXKFV588UXdpzcZMGAAw4YNo23btvTt25fNm9VT+1avXl3hOdOnTyczM9O+nD59WqfcFADPo6basE0n7YfqnnsY6KdTOkIIT+atAUSXKqz58+fTu3dvWrduTV5eHvfffz/Hjh2jYcOGvPvuu3okUaGgoCDatm1b6aNzzWYzZrNZ55TTUI3i35TadhtqIsRWOqclhPBk0gbigtjYWFJSUnj33Xc5cOAAVquVcePGMWrUKAICavZ5Dfn5+Rw9epTbbrutRtNxdBgYCNhKMn6o6qupyKBAIbyPBBAXBQQEMHbsWMaOHavXJa/pmWeeYdCgQcTHx5ORkcGsWbPIyspi9OjRNZpuiT2ogUq2hnjbM8BvraX0hRCeprAQfHwc172B0wFk06ZNVT727rvvdjaZcn755Rfuu+8+zp8/T6NGjejatSt79uwhISFBtzQqthfH4NEJ2AR4apdiIURtKCqC0sPRpARyHYMHD3ZYNxgM5WbjtT1Y6lo9tJy1bt063a5VPYeB/pQEjztQU5QEuik/QghP4a0BxOkKe6vVal+2bdtGhw4d2LJlC5cvXyYzM5MtW7Zwyy238Omn7nlCmL7SUG0eEjyEEOVJLywXTJkyhWXLltGzZ0/7tjvvvJPAwEAeeeQRjh49qkcybpIDDKKkwbwTEjyEEKV560BCXQLI8ePHCQsLK7c9LCyMkydP6pGEm1hQkyHuL16PR7V5SPAQQpQoKnJsRPeWEogufU47derElClTSEtLs29LT0/n6aefpnPnznok4SZFqGmiAUKBzUiDuRCiLKnCcsFbb73FkCFDSEhIID4+HoBTp07RsmVLNm7cqEcSbmIG1gEtgCRqe4poIUTd4K0lEF0CSPPmzTl06BDJycn88MMPaJpG69at6du3r70nVt3lA/zF3ZkQQngwaQNxkcFgoH///vTv31+vSwohRJ1QUAClRzHIQEIhhBBVUlQEpStbpApLCCFElUgAEUII4RSLxTGASBuIEEKIKilb4pASSBVU9dGwoaGhriQjhBAeTQKIE8LDwyvtpqtpGgaDQdfJFIUQwtNIAHHC9u3b7X9rmsbvfvc73njjDW644QaXMyaEEHWFBBAn9OrVy2Hd19eXrl270qxZM5cyJYQQdUlhIVitJeveUukijehCCOGioiLHgYQSQIQQQlSJBBCd1P25r4QQonokgDhh6NChDut5eXlMmDCBoKAgh+3r1693JRkhhPBoFotjACndHlKfuRRAyj5E6oEHHnApM0IIUReVnc5dAkgVrFy5Uq98CCFEnSUBRAghhFO8NYDo8khbd1iyZAlNmzbF39+fW2+9lS+++MLdWRJCeKnCQvVMENviLc8DqZMB5L333mPKlCnMmDGDgwcPcttttzFgwABOnTrl7qwJIbyQtz4TvU4GkHnz5jFu3Dj++Mc/0qpVKxYsWEBcXBxLly51d9aEEF5IAkgdUVBQwP79+8s9Ord///589dVXbsqVEMKbeWsAqXON6OfPn8disdC4cWOH7Y0bNyY9Pf2a5+Tn55Ofn29fz8zMLP6ratPReypNU4vVqvqhWywlH15bHayPj9rv41PSyGe1qmMsFnWc7RyLRe2zWh37tIuaV/p9LP0eGo3qfTMYSvYbDCXvj+14W727bSn9RWb7bJR+f0svUL1GX9vnzraU3lZW6XSulX5F59UO9f9f0yEDFkvZ75K6/d1SVXUugNiUHfFumzr+WubMmcNLL710jT1xNZCz2lNYCJcuqUXUbbm5aqngN5CoQdnZ2eXGtFWVyWQiOjqa9PTy3yXR0dGYTCZXs+fR6lwAadiwIb6+vuVKGxkZGeVKJTbTp09n6tSp9nWr1crFixeJjIys0tQrWVlZxMXFcfr0aXk4ViXkPlWN3Keqqen7pGka2dnZxMbGOn0Nf39/UlNTKSgoKLfPZDLh7+/vShY9Xp0LICaTiVtvvZXk5GSGDBli356cnMw999xzzXPMZjNms9lhW3h4eLXTDg0Nlf/wVSD3qWrkPlVNTd4nZ0sepfn7+9f7QFGROhdAAKZOncqDDz5IYmIi3bp1Y/ny5Zw6dYoJEya4O2tCCOE16mQAGTlyJBcuXODll18mLS2NNm3a8Mknn5CQkODurAkhhNeokwEEYOLEiUycOLFW0jKbzbz44ovlqsGEI7lPVSP3qWrkPnk+g6ZHHzYhhBBep84NJBRCCOEZJIAIIYRwigQQIYQQTpEAch0ybbyjOXPm0KlTJ0JCQoiKimLw4MH8+OOPDsdomsbMmTOJjY0lICCApKQkjhw54qYce4Y5c+ZgMBiYMmWKfZvcpxJnzpzhgQceIDIyksDAQDp06MD+/fvt++VeeSYJIJWQaePL27lzJ48//jh79uwhOTmZoqIi+vfvT05Ojv2YuXPnMm/ePF5//XW+/fZboqOj6devH9nZ2W7Muft8++23LF++nHbt2jlsl/ukXLp0iR49euDn58eWLVv4/vvvee211xwG+8q98lCaqFDnzp21CRMmOGy76aabtOeff95NOfI8GRkZGqDt3LlT0zRNs1qtWnR0tPbqq6/aj8nLy9PCwsK0ZcuWuSubbpOdna21aNFCS05O1nr16qVNnjxZ0zS5T6U999xzWs+ePSvcL/fKc0kJpAIybXzV2GY2joiIACA1NZX09HSH+2Y2m+nVq5dX3rfHH3+cgQMH0rdvX4ftcp9KbNq0icTERIYPH05UVBQdO3ZkxYoV9v1yrzyXBJAKODNtvLfRNI2pU6fSs2dP2rRpA2C/N3LfYN26dRw4cIA5c+aU2yf3qcSJEydYunQpLVq0YOvWrUyYMIEnn3ySNWvWAHKvPFmdHYleW6ozbby3mTRpEocOHWL37t3l9nn7fTt9+jSTJ09m27ZtlU605+33CdTs2ImJicyePRuAjh07cuTIEZYuXcpDDz1kP07uleeREkgFnJk23ps88cQTbNq0ie3bt9OkSRP79ujoaACvv2/79+8nIyODW2+9FaPRiNFoZOfOnSxatAij0Wi/F95+nwBiYmJo3bq1w7ZWrVrZO6vIZ8pzSQCpQOlp40tLTk6me/fubsqV+2maxqRJk1i/fj2ff/45TZs2ddjftGlToqOjHe5bQUEBO3fu9Kr71qdPHw4fPkxKSop9SUxMZNSoUaSkpNCsWTO5T8V69OhRriv4Tz/9ZJ8cVT5THsydLfiebt26dZqfn5/25ptvat9//702ZcoULSgoSDt58qS7s+Y2jz32mBYWFqbt2LFDS0tLsy9Xr161H/Pqq69qYWFh2vr167XDhw9r9913nxYTE6NlZWW5MefuV7oXlqbJfbL55ptvNKPRqP3lL3/Rjh07pr399ttaYGCgtnbtWvsxcq88kwSQ6/jHP/6hJSQkaCaTSbvlllvs3VW9FXDNZeXKlfZjrFar9uKLL2rR0dGa2WzWbr/9du3w4cPuy7SHKBtA5D6V+Oijj7Q2bdpoZrNZu+mmm7Tly5c77Jd75ZlkNl4hhBBOkTYQIYQQTpEAIoQQwikSQIQQQjhFAogQQginSAARQgjhFAkgQgghnCIBRAghhFMkgAghhHCKBBAhhBBOkQAihBDCKRJAhPAQH3/8Mc2aNaNTp0789NNP7s6OENclc2EJ4SFatmzJkiVLOHLkCF9//TXr1q1zd5aEqJSUQES9lpSUxJQpU1w+Rq+8GAwGDAYDKSkp5fY3bNiQ5s2b06xZM8LCwuzbH374Yft5GzdurPF8ClFVUgIR9drFixfx8/MjJCQEUF/iHTp0YMGCBRUeU1OSkpJo2bIlL7/8Mg0bNsRodHyi9IoVK5gwYQKNGjXiyJEjREZGApCZmUlubi4xMTFs2LCBwYMH12g+hagqKYGIei0iIuK6gaEqx+glMDCQ6OjocsGjqKiIhQsXMm3aNLKzs2nQoIF9X1hYmP2xrkJ4EgkgQhfnzp0jOjqa2bNn27ft3bsXk8nEtm3brnlOUlISkyZNYtKkSYSHhxMZGcmf/vQnSheK8/PzefLJJ4mKisLf35+ePXvy7bff2vd/8MEHtG3bloCAACIjI+nbty85OTkOadiqpx5++GF27tzJwoUL7VVCJ0+eLFeFdb00k5KSePLJJ5k2bRoRERFER0czc+ZMl+7fsmXLaNasGY8//jhXr17l2LFjLl1PiNogAUToolGjRrz11lvMnDmTffv2ceXKFR544AEmTpxI//79Kzxv9erVGI1G9u7dy6JFi5g/fz5vvPGGff+0adP48MMPWb16NQcOHKB58+bceeedXLx4kbS0NO677z7Gjh3L0aNH2bFjB0OHDqWiWtmFCxfSrVs3xo8fT1paGmlpacTFxZU7rrI0S+c7KCiIvXv3MnfuXF5++WWHZ3ZXx6VLl3jllVf461//SpMmTQgLC7tmG4kQHsd9D0MU9dHEiRO1li1baqNGjdLatGmj5ebmVnhsr169tFatWmlWq9W+7bnnntNatWqlaZqmXblyRfPz89Pefvtt+/6CggItNjZWmzt3rrZ//34NqPQZ9WUfI1t2vey266VpO75nz54O1+jUqZP23HPPVZiPitLWNE2bNGmS9uijj9rXu3Xrpk2fPr3ccYC2YcOGStMQojZJCUTo6u9//ztFRUW8//77vP322/j7+1d6fNeuXTEYDPb1bt26cezYMSwWC8ePH6ewsJAePXrY9/v5+dG5c2eOHj1K+/bt6dOnD23btmX48OGsWLGCS5cuuZT/66Vp065dO4fzYmJiyMjIqHZ633//PWvXrnWoAmvTpo2UQESdIAFE6OrEiROcPXsWq9XKzz//7NK1tOKqqNIBxrbdYDDg6+tLcnIyW7ZsoXXr1ixevJjf/va3pKam1liaNn5+fg77DQYDVqu12uk99dRTXL58mSZNmmA0GjEajbzxxht89913TuReiNolAUTopqCggFGjRjFy5EhmzZrFuHHj+PXXXys9Z8+ePeXWW7Roga+vL82bN8dkMrF79277/sLCQvbt20erVq0A9cXdo0cPXnrpJQ4ePIjJZGLDhg0VpmcymbBYLBXur0qaevn444/Zv38/Bw8eJCUlxb68+eabnD17lnPnzumanhB6M17/ECGqZsaMGWRmZrJo0SKCg4PZsmUL48aN4+OPP67wnNOnTzN16lQeffRRDhw4wOLFi3nttdcACAoK4rHHHuPZZ58lIiKC+Ph45s6dy9WrVxk3bhx79+7ls88+o3///kRFRbF3717OnTtX6Rf9jTfeyN69ezl58iTBwcFEREQ47L9emnopLCzk6aef5tlnn6VDhw4O+0JDQwH47rvv6Nu3r25pCqE3CSBCFzt27GDBggVs377d/gX4r3/9i3bt2rF06VIee+yxa5730EMPkZubS+fOnfH19eWJJ57gkUcese9/9dVXsVqtPPjgg2RnZ5OYmMjWrVtp0KABoaGh7Nq1iwULFpCVlUVCQgKvvfYaAwYMqDCfzzzzDKNHj6Z169bk5uZes7qrsjT1snjxYi5fvsykSZPK7YuLiyMwMJCUlBQJIMKjyUh04TbXGhVen7n6eg0Gg4xEFx5F2kCEqEVLliwhODiYw4cPV/mcCRMmEBwcXIO5EsI5UgIRbuNtJZAzZ86Qm5sLQHx8PCaTqUrnZWRkkJWVBajuwkFBQTWWRyGqQwKIEEIIp0gVlhBCCKdIABFCCOEUCSBCCCGcIgFECCGEUySACCGEcIoEECGEEE6RACKEEMIpEkCEEEI4RQKIEEIIp0gAEUII4RQJIEIIIZwiAUQIIYRTJIAIIYRwigQQIYQQTpEAIoQQwikSQIQQQjjl/wPVuhGO8HC0MAAAAABJRU5ErkJggg==' width=400.0/>\n",
       "            </div>\n",
       "        "
      ],
      "text/plain": [
       "Canvas(toolbar=Toolbar(toolitems=[('Home', 'Reset original view', 'home', 'home'), ('Back', 'Back to previous …"
      ]
     },
     "metadata": {},
     "output_type": "display_data"
    }
   ],
   "source": [
    "%matplotlib widget\n",
    "%matplotlib ipympl\n",
    "# Define initial parameters\n",
    "init_timestep = 0\n",
    "H_pos = np.array([atoms[[atom.index for atom in atoms if atom.symbol=='H']].get_positions() for atoms in traj])\n",
    "\n",
    "# Create the figure and the line that we will manipulate\n",
    "#fig, ax = plt.subplots()\n",
    "fig, ax = plt.subplots(figsize=[4,2])\n",
    "controls = iplt.plot(x,calc_H_grad, \n",
    "                     timestep = np.arange(0,len(traj)),\n",
    "                     color='k',\n",
    "                     play_buttons = True,\n",
    "#                               #display = False,\n",
    "                     lw=2)\n",
    "\n",
    "ax.set_ylabel(r'H density [a.u.]')\n",
    "ax.set_xlabel(r'x position [$\\AA{}$]')\n",
    "ax.set_ylim([0,18])\n",
    "\n",
    "extent = ax.get_xlim()[0], ax.get_xlim()[1], ax.get_ylim()[0], ax.get_ylim()[1]\n",
    "iplt.imshow(calc_H_grad2, \n",
    "            timestep = np.arange(0,len(traj)), \n",
    "            vmin = 10,\n",
    "            vmax = 17,\n",
    "            controls=controls, \n",
    "            interpolation=None, \n",
    "            aspect='auto',\n",
    "            #cmap=shifted_cmap,\n",
    "            cmap='bwr',\n",
    "            extent=extent) #plot imshow\n",
    "cbar = plt.colorbar()\n",
    "cbar.set_ticks([])\n",
    "\n",
    "fig.tight_layout()\n"
   ]
  },
  {
   "cell_type": "code",
   "execution_count": 6,
   "id": "45dd21a3-4a2c-4770-b507-63ad68224c0e",
   "metadata": {},
   "outputs": [
    {
     "name": "stderr",
     "output_type": "stream",
     "text": [
      "MovieWriter ffmpeg unavailable; using Pillow instead.\n"
     ]
    }
   ],
   "source": [
    "anim = controls.save_animation(\"plot-3.gif\", fig, \"timestep\", interval=1, dpi=400)"
   ]
  },
  {
   "cell_type": "code",
   "execution_count": 6,
   "id": "0454b278-6aaf-4650-be12-60b08a5e4eaa",
   "metadata": {},
   "outputs": [
    {
     "data": {
      "application/vnd.jupyter.widget-view+json": {
       "model_id": "17931de635464fda81455422fb500b0b",
       "version_major": 2,
       "version_minor": 0
      },
      "text/plain": [
       "VBox(children=(HBox(children=(IntSlider(value=0, description='x', max=99, readout=False), Label(value='0.00'))…"
      ]
     },
     "metadata": {},
     "output_type": "display_data"
    },
    {
     "ename": "TypeError",
     "evalue": "'int' object is not iterable",
     "output_type": "error",
     "traceback": [
      "\u001b[0;31m---------------------------------------------------------------------------\u001b[0m",
      "\u001b[0;31mTypeError\u001b[0m                                 Traceback (most recent call last)",
      "Cell \u001b[0;32mIn[6], line 6\u001b[0m\n\u001b[1;32m      4\u001b[0m \u001b[38;5;28;01mdef\u001b[39;00m \u001b[38;5;21mf\u001b[39m(x, tau, beta):\n\u001b[1;32m      5\u001b[0m     \u001b[38;5;28;01mreturn\u001b[39;00m np\u001b[38;5;241m.\u001b[39msin(x\u001b[38;5;241m*\u001b[39mtau)\u001b[38;5;241m*\u001b[39mx\u001b[38;5;241m*\u001b[39m\u001b[38;5;241m*\u001b[39mbeta\n\u001b[0;32m----> 6\u001b[0m fig, ax, sliders \u001b[38;5;241m=\u001b[39m interactive_plot(f, x\u001b[38;5;241m=\u001b[39mx, tau \u001b[38;5;241m=\u001b[39m tau, beta \u001b[38;5;241m=\u001b[39m beta)\n",
      "File \u001b[0;32m~/miniconda3/envs/ase-general/lib/python3.11/site-packages/mpl_interactions/controller.py:370\u001b[0m, in \u001b[0;36mControls.__getitem__\u001b[0;34m(self, key)\u001b[0m\n\u001b[1;32m    368\u001b[0m     keys \u001b[38;5;241m=\u001b[39m [key]\n\u001b[1;32m    369\u001b[0m \u001b[38;5;28;01mif\u001b[39;00m keys \u001b[38;5;129;01mis\u001b[39;00m \u001b[38;5;129;01mnot\u001b[39;00m \u001b[38;5;28;01mNone\u001b[39;00m:\n\u001b[0;32m--> 370\u001b[0m \u001b[43m    \u001b[49m\u001b[38;5;28;43;01mfor\u001b[39;49;00m\u001b[43m \u001b[49m\u001b[43mk\u001b[49m\u001b[43m \u001b[49m\u001b[38;5;129;43;01min\u001b[39;49;00m\u001b[43m \u001b[49m\u001b[43mkeys\u001b[49m\u001b[43m:\u001b[49m\n\u001b[1;32m    371\u001b[0m \u001b[43m        \u001b[49m\u001b[38;5;28;43;01mif\u001b[39;49;00m\u001b[43m \u001b[49m\u001b[43mk\u001b[49m\u001b[43m \u001b[49m\u001b[38;5;129;43;01mnot\u001b[39;49;00m\u001b[43m \u001b[49m\u001b[38;5;129;43;01min\u001b[39;49;00m\u001b[43m \u001b[49m\u001b[38;5;28;43mself\u001b[39;49m\u001b[38;5;241;43m.\u001b[39;49m\u001b[43mparams\u001b[49m\u001b[43m:\u001b[49m\n\u001b[1;32m    372\u001b[0m \u001b[43m            \u001b[49m\u001b[38;5;28;43;01mraise\u001b[39;49;00m\u001b[43m \u001b[49m\u001b[38;5;167;43;01mIndexError\u001b[39;49;00m\u001b[43m(\u001b[49m\u001b[38;5;124;43mf\u001b[39;49m\u001b[38;5;124;43m\"\u001b[39;49m\u001b[38;5;132;43;01m{\u001b[39;49;00m\u001b[43mk\u001b[49m\u001b[38;5;132;43;01m}\u001b[39;49;00m\u001b[38;5;124;43m is not a param in this Controls object.\u001b[39;49m\u001b[38;5;124;43m\"\u001b[39;49m\u001b[43m)\u001b[49m\n",
      "\u001b[0;31mTypeError\u001b[0m: 'int' object is not iterable"
     ]
    }
   ],
   "source": [
    "x = np.linspace(0, np.pi,100)\n",
    "tau = np.linspace(1,10, 100)\n",
    "beta = np.linspace(1,10)\n",
    "def f(x, tau, beta):\n",
    "    return np.sin(x*tau)*x**beta\n",
    "fig, ax, sliders = interactive_plot(f, x=x, tau = tau, beta = beta)"
   ]
  },
  {
   "cell_type": "code",
   "execution_count": null,
   "id": "7e01d9a1-5c2a-4e64-84fc-cb91002d2502",
   "metadata": {},
   "outputs": [],
   "source": []
  }
 ],
 "metadata": {
  "kernelspec": {
   "display_name": "Python 3 (ipykernel)",
   "language": "python",
   "name": "python3"
  },
  "language_info": {
   "codemirror_mode": {
    "name": "ipython",
    "version": 3
   },
   "file_extension": ".py",
   "mimetype": "text/x-python",
   "name": "python",
   "nbconvert_exporter": "python",
   "pygments_lexer": "ipython3",
   "version": "3.11.7"
  }
 },
 "nbformat": 4,
 "nbformat_minor": 5
}
